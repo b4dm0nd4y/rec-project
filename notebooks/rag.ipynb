{
 "cells": [
  {
   "cell_type": "code",
   "execution_count": 1,
   "id": "ead9a963",
   "metadata": {},
   "outputs": [],
   "source": [
    "from qdrant_client import QdrantClient\n",
    "from langchain_qdrant import QdrantVectorStore\n",
    "from langchain_core.messages import SystemMessage, HumanMessage\n",
    "from langchain_mistralai import ChatMistralAI\n",
    "from langchain_huggingface import HuggingFaceEmbeddings\n",
    "\n",
    "from langchain.prompts import ChatPromptTemplate\n",
    "from langchain.schema.runnable import RunnablePassthrough\n",
    "from langchain.schema.output_parser import StrOutputParser\n",
    "\n",
    "import os\n",
    "import getpass"
   ]
  },
  {
   "cell_type": "code",
   "execution_count": 2,
   "id": "19decc6e",
   "metadata": {},
   "outputs": [
    {
     "name": "stderr",
     "output_type": "stream",
     "text": [
      "/tmp/ipykernel_54684/4078310450.py:1: UserWarning: Local mode is not recommended for collections with more than 20,000 points. Collection <books-rec-project> contains 67582 points. Consider using Qdrant in Docker or Qdrant Cloud for better performance with large datasets.\n",
      "  client = QdrantClient(\n",
      "/tmp/ipykernel_54684/4078310450.py:1: UserWarning: Local mode is not recommended for collections with more than 20,000 points. Collection <books-rec-project3> contains 67553 points. Consider using Qdrant in Docker or Qdrant Cloud for better performance with large datasets.\n",
      "  client = QdrantClient(\n"
     ]
    }
   ],
   "source": [
    "client = QdrantClient(\n",
    "    path='../db/qdrant_db',\n",
    ")\n",
    "\n",
    "collection_name='books-rec-project3'"
   ]
  },
  {
   "cell_type": "code",
   "execution_count": 3,
   "id": "2bc1c54a",
   "metadata": {},
   "outputs": [
    {
     "name": "stderr",
     "output_type": "stream",
     "text": [
      "/home/o13g/bootcamp/ds-phase-2/rec-project/.venv/lib/python3.12/site-packages/tqdm/auto.py:21: TqdmWarning: IProgress not found. Please update jupyter and ipywidgets. See https://ipywidgets.readthedocs.io/en/stable/user_install.html\n",
      "  from .autonotebook import tqdm as notebook_tqdm\n"
     ]
    }
   ],
   "source": [
    "COLLECTION_NAME = 'books-rec-project3'\n",
    "\n",
    "model_name = 'sentence-transformers/paraphrase-multilingual-mpnet-base-v2'\n",
    "model_kwargs = {'device': 'cuda'}\n",
    "encode_kwargs = {'normalize_embeddings': True}\n",
    "\n",
    "hf = HuggingFaceEmbeddings(\n",
    "    model_name=model_name,\n",
    "    model_kwargs=model_kwargs,\n",
    "    encode_kwargs=encode_kwargs\n",
    ")\n",
    "\n",
    "vector_store = QdrantVectorStore(\n",
    "        client=client,\n",
    "        collection_name=COLLECTION_NAME,\n",
    "        embedding=hf\n",
    "    )"
   ]
  },
  {
   "cell_type": "code",
   "execution_count": 4,
   "id": "f6e15056",
   "metadata": {},
   "outputs": [],
   "source": [
    "API_TOKEN = 'eTH2MRqGGG9TfSe1tyUR3LVUnksHx9fA'\n",
    "\n",
    "llm = ChatMistralAI(\n",
    "    model = 'mistral-small',\n",
    "    temperature = .7,\n",
    "    max_tokens=2000,\n",
    "    api_key=API_TOKEN\n",
    ")\n"
   ]
  },
  {
   "cell_type": "code",
   "execution_count": 5,
   "id": "059851cc",
   "metadata": {},
   "outputs": [],
   "source": [
    "# answer = llm.invoke(messages).content\n",
    "# print(answer)"
   ]
  },
  {
   "cell_type": "code",
   "execution_count": 6,
   "id": "9c00d3a4",
   "metadata": {},
   "outputs": [],
   "source": [
    "from langchain.prompts import ChatPromptTemplate\n",
    "\n",
    "rag_prompt = ChatPromptTemplate.from_messages([\n",
    "    (\"system\", \"\"\"Ты эксперт-аналитик книгам с многолетним опытом и отличным чувством юмора! 🎯\n",
    "    Твоя задача - проанализировать предоставленные аннотации к книгам и предугадать сюжет.\n",
    "\n",
    "    Стиль анализа:\n",
    "    - Структурируй ответ с эмодзи и забавными комментариями\n",
    "    - Отвечай на русском языке живым тоном\n",
    "    - Generate your response in russian language\n",
    "\n",
    "    Помни: юмор должен быть добрым и не оскорбительным. Цель - сделать анализ интересным!\n",
    "\n",
    "    Если среди аннотаций есть что-то особенно забавное - обязательно это отметь! 😄\"\"\"),\n",
    "\n",
    "    (\"human\", \"\"\"📊 ДАННЫЕ ДЛЯ ЭКСПЕРТНОГО МНЕНИЯ:\n",
    "{context}\n",
    "\n",
    "🎯 ЗАПРОС НА ЭКСПЕРТИЗУ: {question}\"\"\")\n",
    "])"
   ]
  },
  {
   "cell_type": "code",
   "execution_count": 7,
   "id": "fcde6923",
   "metadata": {},
   "outputs": [],
   "source": [
    "retriever = vector_store.as_retriever(\n",
    "    search_type=\"similarity\",\n",
    "    search_kwargs={\"k\": 5}\n",
    ")"
   ]
  },
  {
   "cell_type": "code",
   "execution_count": 8,
   "id": "81d68f0f",
   "metadata": {},
   "outputs": [
    {
     "name": "stdout",
     "output_type": "stream",
     "text": [
      "✅ Функция форматирования создана\n"
     ]
    }
   ],
   "source": [
    "def format_docs(docs):\n",
    "    \"\"\"Форматирует документы для передачи в промпт\"\"\"\n",
    "    formatted = []\n",
    "\n",
    "    for i, doc in enumerate(docs, 1):\n",
    "        metadata = doc.metadata\n",
    "\n",
    "        vacancy_info = f\"\"\"\n",
    "        === Книга {i} ===\n",
    "        Авторы: {metadata.get('author', 'Не указано')}\n",
    "        Название: {metadata.get('title', 'Не указано')}\n",
    "        Картинка: {metadata.get('img_url', 'Не указано')}\n",
    "        Сылка: {metadata.get('book_url', 'Не указано')}\n",
    "\n",
    "        Краткое Описание: {metadata.get('annotation', 'Не указано')}...\n",
    "        \"\"\"\n",
    "\n",
    "        formatted.append(vacancy_info)\n",
    "\n",
    "    return \"\\n\".join(formatted)\n",
    "\n",
    "print(\"✅ Функция форматирования создана\")\n"
   ]
  },
  {
   "cell_type": "code",
   "execution_count": 9,
   "id": "0b004972",
   "metadata": {},
   "outputs": [
    {
     "name": "stdout",
     "output_type": "stream",
     "text": [
      "✅ RAG цепочка создана\n"
     ]
    }
   ],
   "source": [
    "# Создаем RAG цепочку\n",
    "rag_chain = (\n",
    "    {\n",
    "        \"context\": retriever | format_docs,\n",
    "        \"question\": RunnablePassthrough()\n",
    "    } # словарь, в котором ключи - это переменные, которые будут переданы в промпт\n",
    "    | rag_prompt # промпт для RAG\n",
    "    | llm # тут можно поставить любую llm-модель\n",
    "    | StrOutputParser() # для вывода ответа в читаемом виде\n",
    ")\n",
    "\n",
    "print(\"✅ RAG цепочка создана\")"
   ]
  },
  {
   "cell_type": "code",
   "execution_count": 10,
   "id": "e21854b0",
   "metadata": {},
   "outputs": [
    {
     "name": "stdout",
     "output_type": "stream",
     "text": [
      "🔍 ОТВЕТ RAG:\n",
      "📚 Ох, книги! Вот сколько интересного и загадочного в этом списке! 😄\n",
      "\n",
      "**📕 Книга 1 - \"Реминисценция\" Дмитрия Рощина**\n",
      "🔎 Судя по названию, здесь можно ожидать чего-то вроде воспоминаний или отголосков прошлого. Сюрреалистическая новелла - это звучит увлекательно! Тут, наверное, будут странные связи, неожиданные повороты и завораживающие метафоры. 🎩 Хочется надеть феску детектива и разгадывать загадки вместе с автором!\n",
      "\n",
      "**📕 Книга 2 - \"Глаза из прошлого\" Домоседа**\n",
      "🙆‍♂️ Первый творческий опыт автора! Это всегда здорово! История, вероятно, будет набирать обороты по мере развития навыков писателя. Может, там спрятаны неожиданные перлы? Я рад буду любой адекватной критике, - говорит Домосед. Ну, я готов стать его первым читателем и подружиться с его уникальным стилем! 🤝\n",
      "\n",
      "**📕 Книга 3 - \"История до... Пантеон\" Василия Барда**\n",
      "🤔 К сожалению, аннотация неразборчива, но я готов рискнуть! Возможно, там будет история о путешествии, возрождении или открытии чего-то нового. Пусть нас занесет волной интересных событий и неожиданных открытий! 🌊\n",
      "\n",
      "**📕 Книга 4 - \"Рецензия на серию романов Виктории Мальцевой 'Опиум'\" Катерины Шварц**\n",
      "💬 Эта рецензия - это уже вторичный источник, но он тоже может быть интересным! Катерина явно не останется равнодушной к произведениям Виктории. Может, мы узнаем что-то новое об оригинальном материале, а может, услышим совершенно другую точку зрения! 🌈\n",
      "\n",
      "**📕 Книга 5 - \"Попадинец\" Роберта Имелсена**\n",
      "😃 Очень интересная книга! Хочется представить, как герой попадает в разные нелепые, смешные или сложные ситуации. Может, там даже будет место для небольших life lessons? Я надеюсь, что наш попадинец не окажется в полной беspinoronne (без spinning)! 😅\n",
      "\n",
      "В общем, я рад бы прочесть все эти книги и написать подробные отзывы со своим характерным чувством юмора! 😄 Будем надеяться, что эти авторы сумеют нас порадовать своими историями! 📖\n"
     ]
    }
   ],
   "source": [
    "# Тестируем\n",
    "question = \"Что ты думаешь об этой Книги, ее Название и авторе?\"\n",
    "try:\n",
    "    answer = rag_chain.invoke(question)\n",
    "    print(\"🔍 ОТВЕТ RAG:\")\n",
    "    print(answer)\n",
    "except Exception as e:\n",
    "    print(f\"❌ Ошибка: {e}\")"
   ]
  },
  {
   "cell_type": "code",
   "execution_count": 11,
   "id": "88e9680e",
   "metadata": {},
   "outputs": [],
   "source": [
    "def format_book(book):\n",
    "    formatted_book = f\"\"\"\n",
    "    Авторы: {book.get('author', 'Не указано')}\n",
    "    Название: {book.get('title', 'Не указано')}\n",
    "    Картинка: {book.get('img_url', 'Не указано')}\n",
    "    Сылка: {book.get('book_url', 'Не указано')}\n",
    "\n",
    "    Краткое Описание: {book.get('annotation', 'Не указано')}...\n",
    "    \"\"\"\n",
    "\n",
    "    return formatted_book"
   ]
  },
  {
   "cell_type": "code",
   "execution_count": null,
   "id": "ff323e98",
   "metadata": {},
   "outputs": [],
   "source": [
    "def demonstrate_rag_step_by_step(book:dict):\n",
    "    query = 'Что ты думаешь про эту книгу, ее название и ее автора?'\n",
    "    formatted_context = format_book(book)\n",
    "    input_data = {\n",
    "        \"context\": formatted_context,\n",
    "        \"question\": query\n",
    "    }\n",
    "    formatted_prompt = rag_prompt.format(**input_data)\n",
    "    \n",
    "    # Получаем ответ\n",
    "    response = llm.invoke(formatted_prompt)\n",
    "    final_answer = StrOutputParser().parse(response)\n",
    "\n",
    "    return final_answer.content"
   ]
  },
  {
   "cell_type": "code",
   "execution_count": 13,
   "id": "91177942",
   "metadata": {},
   "outputs": [],
   "source": [
    "book = {'author': 'Aru Alimbet', 'title': 'Ночная сделка', 'main_genre': 'Фэнтези', 'annotation': 'Она живёт среди цифр, где каждая транзакция — просто движение капитала, а каждый отчёт — всего лишь работа. До тех пор, пока одна строка в базе данных не начинае...', 'img_url': 'https://rust.litnet.com/uploads/covers/120/1747997045_38.jpg', 'book_url': 'https://litnet.com/ru/book/xolodnym-utrom-b532882', '_id': '73430f03-facc-46af-8922-7eb25753fcbe', '_collection_name': 'books-rec-project3'}\n",
    "answer = demonstrate_rag_step_by_step(book)"
   ]
  },
  {
   "cell_type": "code",
   "execution_count": null,
   "id": "4fb3c115",
   "metadata": {},
   "outputs": [
    {
     "data": {
      "text/plain": [
       "AIMessage(content='Анализ🧐:\\n\\nВ книге \"Ночная сделка\" автора Ару Альimbет, кажется, что главная героиня будет кого-то LOL! \"Она живёт среди цифр\" - это уже намекает на то, что наша героиня связана с математикой, анализом данных или финансами. 💰\\n\\nНо ожидайте неожиданности, потому что \"одна строка в базе данных неожиданно начинает...\" - это как будто намекает на какой-то сюрприз или интригу в среде цифр и транзакций! 💡\\n\\nАвтор, Ару Альimbет, явно имеет хороший юмор, выбрав \"Ночная сделка\" в качестве названия. Это звучит таинственно и забавно одновременно! 😂\\n\\nВ целом, я думаю, что эта книга будет увлекательной и забавной, с неожиданными поворотами и забавными ситуациями в мире финансов. Жду продолжения! 👀\\n\\nПосмотрите, пожалуйста, на обложку и ссылку, которые были предоставлены, чтобы узнать больше! 👉 [https://litnet.com/ru/book/xolodnym-utrom-b532882](https://litnet.com/ru/book/xolodnym-utrom-b532882) 🌐', additional_kwargs={}, response_metadata={'token_usage': {'prompt_tokens': 490, 'total_tokens': 907, 'completion_tokens': 417}, 'model_name': 'mistral-small', 'model': 'mistral-small', 'finish_reason': 'stop'}, id='run--33fb46e2-a48f-46fd-b2d1-e7f9a1712330-0', usage_metadata={'input_tokens': 490, 'output_tokens': 417, 'total_tokens': 907})"
      ]
     },
     "execution_count": 14,
     "metadata": {},
     "output_type": "execute_result"
    }
   ],
   "source": [
    "answer.content"
   ]
  },
  {
   "cell_type": "code",
   "execution_count": 15,
   "id": "94ac7335",
   "metadata": {},
   "outputs": [],
   "source": [
    "client.close()"
   ]
  },
  {
   "cell_type": "code",
   "execution_count": null,
   "id": "8833ca24",
   "metadata": {},
   "outputs": [],
   "source": []
  }
 ],
 "metadata": {
  "kernelspec": {
   "display_name": ".venv",
   "language": "python",
   "name": "python3"
  },
  "language_info": {
   "codemirror_mode": {
    "name": "ipython",
    "version": 3
   },
   "file_extension": ".py",
   "mimetype": "text/x-python",
   "name": "python",
   "nbconvert_exporter": "python",
   "pygments_lexer": "ipython3",
   "version": "3.12.9"
  }
 },
 "nbformat": 4,
 "nbformat_minor": 5
}
