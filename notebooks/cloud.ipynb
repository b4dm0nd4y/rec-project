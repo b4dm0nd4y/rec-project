{
 "cells": [
  {
   "cell_type": "code",
   "execution_count": 2,
   "id": "a166dcdb",
   "metadata": {},
   "outputs": [],
   "source": [
    "import pandas as pd\n",
    "from tqdm import tqdm\n",
    "\n",
    "from uuid import uuid4\n",
    "\n",
    "from langchain_core.documents import Document\n",
    "from langchain_qdrant import QdrantVectorStore\n",
    "from langchain_huggingface import HuggingFaceEmbeddings\n",
    "\n",
    "from qdrant_client import QdrantClient\n",
    "from qdrant_client.http.models import Distance, VectorParams"
   ]
  },
  {
   "cell_type": "code",
   "execution_count": 3,
   "id": "b6db3b0d",
   "metadata": {},
   "outputs": [
    {
     "name": "stderr",
     "output_type": "stream",
     "text": [
      "/tmp/ipykernel_5992/4078310450.py:1: UserWarning: Local mode is not recommended for collections with more than 20,000 points. Collection <books-rec-project> contains 67582 points. Consider using Qdrant in Docker or Qdrant Cloud for better performance with large datasets.\n",
      "  client = QdrantClient(\n",
      "/tmp/ipykernel_5992/4078310450.py:1: UserWarning: Local mode is not recommended for collections with more than 20,000 points. Collection <books-rec-project3> contains 67553 points. Consider using Qdrant in Docker or Qdrant Cloud for better performance with large datasets.\n",
      "  client = QdrantClient(\n"
     ]
    }
   ],
   "source": [
    "client = QdrantClient(\n",
    "    path='../db/qdrant_db',\n",
    ")\n",
    "\n",
    "collection_name='books-rec-project3'"
   ]
  },
  {
   "cell_type": "code",
   "execution_count": 4,
   "id": "882dd73c",
   "metadata": {},
   "outputs": [
    {
     "name": "stderr",
     "output_type": "stream",
     "text": [
      "/home/o13g/bootcamp/ds-phase-2/rec-project/.venv/lib/python3.12/site-packages/tqdm/auto.py:21: TqdmWarning: IProgress not found. Please update jupyter and ipywidgets. See https://ipywidgets.readthedocs.io/en/stable/user_install.html\n",
      "  from .autonotebook import tqdm as notebook_tqdm\n"
     ]
    }
   ],
   "source": [
    "model_name = 'sentence-transformers/paraphrase-multilingual-mpnet-base-v2'\n",
    "model_kwargs = {'device': 'cuda'}\n",
    "encode_kwargs = {'normalize_embeddings': True}\n",
    "\n",
    "hf = HuggingFaceEmbeddings(\n",
    "    model_name=model_name,\n",
    "    model_kwargs=model_kwargs,\n",
    "    encode_kwargs=encode_kwargs\n",
    ")"
   ]
  },
  {
   "cell_type": "code",
   "execution_count": 5,
   "id": "1a971a82",
   "metadata": {},
   "outputs": [],
   "source": [
    "vector_store = QdrantVectorStore(\n",
    "    client=client,\n",
    "    collection_name='books-rec-project3',\n",
    "    embedding=hf\n",
    ")"
   ]
  },
  {
   "cell_type": "code",
   "execution_count": 6,
   "id": "14e7b6d9",
   "metadata": {},
   "outputs": [],
   "source": [
    "query = 'Про мальчика и демона'\n",
    "results = vector_store.similarity_search(\n",
    "    query,\n",
    "    k=3\n",
    ")"
   ]
  },
  {
   "cell_type": "code",
   "execution_count": 9,
   "id": "cd5063dc",
   "metadata": {},
   "outputs": [
    {
     "data": {
      "text/plain": [
       "[Document(metadata={'author': 'Ник Трейси', 'title': 'За демоном', 'main_genre': 'Молодежная проза', 'annotation': 'История о том, как обычные мальчишки пошли глубоко в дремучий лес, чтобы прикончить демона. ...', 'img_url': 'https://rust.litnet.com/uploads/covers/120/1540727763_43.jpg', 'book_url': 'https://litnet.com/ru/book/uslysh-menya-b108304', '_id': 'e353b7bc-8fd3-4175-abc5-4541dd050bfb', '_collection_name': 'books-rec-project3'}, page_content='Жанр: Молодежная проза, Молодежная мистика\\nАннотация: История о том, как обычные мальчишки пошли глубоко в дремучий лес, чтобы прикончить демона. ...\\nНазвание: За демоном'),\n",
       " Document(metadata={'author': 'RoMan', 'title': 'Влюблённый демон', 'main_genre': 'Молодежная проза', 'annotation': 'Демону запрещено любить человека, а если такое случается, сам дьявол будет пытать непослушного демона.\\nГлавный герой, демон перекрёстка, сам того не замечая, влюбил...', 'img_url': 'https://rust.litnet.com/uploads/covers/120/1711516351_84.jpg', 'book_url': 'https://litnet.com/ru/book/uvezi-menya-v-dolinu-b269916', '_id': '3a70da58-a11b-436f-9ec1-7a02283f27db', '_collection_name': 'books-rec-project3'}, page_content='Жанр: Молодежная проза, Молодежная мистика\\nАннотация: Демону запрещено любить человека, а если такое случается, сам дьявол будет пытать непослушного демона.\\nГлавный герой, демон перекрёстка, сам того не замечая, влюбил...\\nНазвание: Влюблённый демон'),\n",
       " Document(metadata={'author': 'Алекс Зигфрид Шнейдер', 'title': 'Деймос Гипнос Ссср - 1974', 'main_genre': 'Мистика/Ужасы', 'annotation': 'Мальчик попал в неприятную ситуацию, в результате чего сталкивается с непонятными вещами....', 'img_url': 'https://rust.litnet.com/uploads/covers/120/1607199645_60.jpg', 'book_url': 'https://litnet.com/ru/book/poslednee-rozhdestvo-luizy-b296719', '_id': '6834d74b-6f72-4066-9a2a-86c5e967dbf7', '_collection_name': 'books-rec-project3'}, page_content='Жанр: Мистика/Ужасы, Паранормальное\\nАннотация: Мальчик попал в неприятную ситуацию, в результате чего сталкивается с непонятными вещами....\\nНазвание: Деймос Гипнос Ссср - 1974')]"
      ]
     },
     "execution_count": 9,
     "metadata": {},
     "output_type": "execute_result"
    }
   ],
   "source": [
    "results"
   ]
  },
  {
   "cell_type": "code",
   "execution_count": 10,
   "id": "0551ee97",
   "metadata": {},
   "outputs": [],
   "source": [
    "client.close()"
   ]
  },
  {
   "cell_type": "code",
   "execution_count": 13,
   "id": "0b145e7b",
   "metadata": {},
   "outputs": [],
   "source": [
    "df = pd.read_csv('../data/genres/genres.csv')"
   ]
  },
  {
   "cell_type": "code",
   "execution_count": 18,
   "id": "dead8b01",
   "metadata": {},
   "outputs": [
    {
     "data": {
      "text/plain": [
       "'https://litnet.com/ru/book/obeshchanie-malfoyu-b314570'"
      ]
     },
     "execution_count": 18,
     "metadata": {},
     "output_type": "execute_result"
    }
   ],
   "source": [
    "df.book_url[1]"
   ]
  },
  {
   "cell_type": "code",
   "execution_count": null,
   "id": "5e423856",
   "metadata": {},
   "outputs": [],
   "source": []
  }
 ],
 "metadata": {
  "kernelspec": {
   "display_name": ".venv",
   "language": "python",
   "name": "python3"
  },
  "language_info": {
   "codemirror_mode": {
    "name": "ipython",
    "version": 3
   },
   "file_extension": ".py",
   "mimetype": "text/x-python",
   "name": "python",
   "nbconvert_exporter": "python",
   "pygments_lexer": "ipython3",
   "version": "3.12.9"
  }
 },
 "nbformat": 4,
 "nbformat_minor": 5
}
