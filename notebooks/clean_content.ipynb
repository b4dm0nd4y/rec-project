{
 "cells": [
  {
   "cell_type": "code",
   "execution_count": 1,
   "id": "82099d68",
   "metadata": {},
   "outputs": [
    {
     "name": "stderr",
     "output_type": "stream",
     "text": [
      "/home/o13g/bootcamp/ds-phase-2/rec-project/.venv/lib/python3.12/site-packages/tqdm/auto.py:21: TqdmWarning: IProgress not found. Please update jupyter and ipywidgets. See https://ipywidgets.readthedocs.io/en/stable/user_install.html\n",
      "  from .autonotebook import tqdm as notebook_tqdm\n"
     ]
    }
   ],
   "source": [
    "import re\n",
    "import numpy as np\n",
    "import pandas as pd\n",
    "from natasha import Segmenter, NewsEmbedding, NewsMorphTagger, MorphVocab, Doc\n",
    "import nltk\n",
    "from nltk.corpus import stopwords\n",
    "\n",
    "import torch\n",
    "import torch.nn as nn\n",
    "from transformers import AutoTokenizer, AutoModel"
   ]
  },
  {
   "cell_type": "code",
   "execution_count": 2,
   "id": "eedcd225",
   "metadata": {},
   "outputs": [
    {
     "name": "stderr",
     "output_type": "stream",
     "text": [
      "[nltk_data] Downloading package stopwords to /home/o13g/nltk_data...\n",
      "[nltk_data]   Package stopwords is already up-to-date!\n"
     ]
    },
    {
     "data": {
      "text/plain": [
       "True"
      ]
     },
     "execution_count": 2,
     "metadata": {},
     "output_type": "execute_result"
    }
   ],
   "source": [
    "nltk.download('stopwords')"
   ]
  },
  {
   "cell_type": "code",
   "execution_count": 3,
   "id": "b543f8a1",
   "metadata": {},
   "outputs": [
    {
     "name": "stderr",
     "output_type": "stream",
     "text": [
      "/home/o13g/bootcamp/ds-phase-2/rec-project/.venv/lib/python3.12/site-packages/pymorphy2/analyzer.py:114: UserWarning: pkg_resources is deprecated as an API. See https://setuptools.pypa.io/en/latest/pkg_resources.html. The pkg_resources package is slated for removal as early as 2025-11-30. Refrain from using this package or pin to Setuptools<81.\n",
      "  import pkg_resources\n"
     ]
    }
   ],
   "source": [
    "segmenter = Segmenter()\n",
    "emb = NewsEmbedding()\n",
    "morph_tagger = NewsMorphTagger(emb)\n",
    "morph_vocab = MorphVocab()"
   ]
  },
  {
   "cell_type": "code",
   "execution_count": 4,
   "id": "d3074e46",
   "metadata": {},
   "outputs": [],
   "source": [
    "df = pd.read_csv('../clear_data/genres_clear.csv')"
   ]
  },
  {
   "cell_type": "code",
   "execution_count": 5,
   "id": "813e7775",
   "metadata": {},
   "outputs": [
    {
     "data": {
      "text/html": [
       "<div>\n",
       "<style scoped>\n",
       "    .dataframe tbody tr th:only-of-type {\n",
       "        vertical-align: middle;\n",
       "    }\n",
       "\n",
       "    .dataframe tbody tr th {\n",
       "        vertical-align: top;\n",
       "    }\n",
       "\n",
       "    .dataframe thead th {\n",
       "        text-align: right;\n",
       "    }\n",
       "</style>\n",
       "<table border=\"1\" class=\"dataframe\">\n",
       "  <thead>\n",
       "    <tr style=\"text-align: right;\">\n",
       "      <th></th>\n",
       "      <th>author</th>\n",
       "      <th>title</th>\n",
       "      <th>annotation</th>\n",
       "      <th>img_url</th>\n",
       "      <th>book_url</th>\n",
       "      <th>genre</th>\n",
       "    </tr>\n",
       "  </thead>\n",
       "  <tbody>\n",
       "    <tr>\n",
       "      <th>0</th>\n",
       "      <td>Miroshnik Mariya</td>\n",
       "      <td>Обещание Малфою</td>\n",
       "      <td>Серый дым клубами поднимался все выше, постепе...</td>\n",
       "      <td>https://rust.litnet.com/uploads/covers/120/161...</td>\n",
       "      <td>https://litnet.com/ru/book/obeshchanie-malfoyu...</td>\n",
       "      <td>Фанфик, Фанфики по фильмам</td>\n",
       "    </tr>\n",
       "    <tr>\n",
       "      <th>1</th>\n",
       "      <td>Антонина Аркадьева</td>\n",
       "      <td>Любовь На Эгейском Море _aŞk Sana Benzer</td>\n",
       "      <td>Лето, теплое море и любовь простых красивых ду...</td>\n",
       "      <td>https://rust.litnet.com/uploads/covers/120/159...</td>\n",
       "      <td>https://litnet.com/ru/book/obeshchanie-malfoyu...</td>\n",
       "      <td>Фанфик, Фанфики по фильмам</td>\n",
       "    </tr>\n",
       "    <tr>\n",
       "      <th>2</th>\n",
       "      <td>Этранжера</td>\n",
       "      <td>Всё началось с поцелуя. (по сериалу \"Любовь на...</td>\n",
       "      <td>Омер и Дефне, знающий себе цену мужчина и неоп...</td>\n",
       "      <td>https://rust.litnet.com/uploads/covers/120/158...</td>\n",
       "      <td>https://litnet.com/ru/book/obeshchanie-malfoyu...</td>\n",
       "      <td>Фанфик, Фанфики по фильмам</td>\n",
       "    </tr>\n",
       "    <tr>\n",
       "      <th>3</th>\n",
       "      <td>Люба</td>\n",
       "      <td>Белла</td>\n",
       "      <td>Попаданка в тело Изабеллы Свон....</td>\n",
       "      <td>https://rust.litnet.com/uploads/covers/120/158...</td>\n",
       "      <td>https://litnet.com/ru/book/obeshchanie-malfoyu...</td>\n",
       "      <td>Фанфик, Фанфики по фильмам</td>\n",
       "    </tr>\n",
       "    <tr>\n",
       "      <th>4</th>\n",
       "      <td>Cool blue lady</td>\n",
       "      <td>Мальчик голубых кровей. Испытание дружбой</td>\n",
       "      <td>Драко Малфой опускает голову и руки его трясут...</td>\n",
       "      <td>https://rust.litnet.com/uploads/covers/120/154...</td>\n",
       "      <td>https://litnet.com/ru/book/obeshchanie-malfoyu...</td>\n",
       "      <td>Фанфик, Фанфики по фильмам</td>\n",
       "    </tr>\n",
       "  </tbody>\n",
       "</table>\n",
       "</div>"
      ],
      "text/plain": [
       "               author                                              title  \\\n",
       "0   Miroshnik Mariya                                     Обещание Малфою   \n",
       "1  Антонина Аркадьева           Любовь На Эгейском Море _aŞk Sana Benzer   \n",
       "2           Этранжера  Всё началось с поцелуя. (по сериалу \"Любовь на...   \n",
       "3               Люба                                               Белла   \n",
       "4      Cool blue lady          Мальчик голубых кровей. Испытание дружбой   \n",
       "\n",
       "                                          annotation  \\\n",
       "0  Серый дым клубами поднимался все выше, постепе...   \n",
       "1  Лето, теплое море и любовь простых красивых ду...   \n",
       "2  Омер и Дефне, знающий себе цену мужчина и неоп...   \n",
       "3                 Попаданка в тело Изабеллы Свон....   \n",
       "4  Драко Малфой опускает голову и руки его трясут...   \n",
       "\n",
       "                                             img_url  \\\n",
       "0  https://rust.litnet.com/uploads/covers/120/161...   \n",
       "1  https://rust.litnet.com/uploads/covers/120/159...   \n",
       "2  https://rust.litnet.com/uploads/covers/120/158...   \n",
       "3  https://rust.litnet.com/uploads/covers/120/158...   \n",
       "4  https://rust.litnet.com/uploads/covers/120/154...   \n",
       "\n",
       "                                            book_url  \\\n",
       "0  https://litnet.com/ru/book/obeshchanie-malfoyu...   \n",
       "1  https://litnet.com/ru/book/obeshchanie-malfoyu...   \n",
       "2  https://litnet.com/ru/book/obeshchanie-malfoyu...   \n",
       "3  https://litnet.com/ru/book/obeshchanie-malfoyu...   \n",
       "4  https://litnet.com/ru/book/obeshchanie-malfoyu...   \n",
       "\n",
       "                        genre  \n",
       "0  Фанфик, Фанфики по фильмам  \n",
       "1  Фанфик, Фанфики по фильмам  \n",
       "2  Фанфик, Фанфики по фильмам  \n",
       "3  Фанфик, Фанфики по фильмам  \n",
       "4  Фанфик, Фанфики по фильмам  "
      ]
     },
     "execution_count": 5,
     "metadata": {},
     "output_type": "execute_result"
    }
   ],
   "source": [
    "df.head()"
   ]
  },
  {
   "cell_type": "code",
   "execution_count": 6,
   "id": "3ae9f6da",
   "metadata": {},
   "outputs": [],
   "source": [
    "stop = set(stopwords.words('russian')) - {'не', 'ни'}\n",
    "tokenizer = AutoTokenizer.from_pretrained('cointegrated/rubert-tiny2')"
   ]
  },
  {
   "cell_type": "code",
   "execution_count": 7,
   "id": "e82db187",
   "metadata": {},
   "outputs": [],
   "source": [
    "def clean_string(text):\n",
    "    text = text.lower()\n",
    "    text = re.sub(r'\\s{1}[а-яё]*\\.\\.\\.$', '', text) #remove bad ending\n",
    "    text = re.sub(r'<.*?>', ' ', text) # removing html-tags from text\n",
    "    text = re.sub(r'http\\S+|\\S+@\\S+', ' ', text) # removing links\n",
    "    text = re.sub(r'[^а-яё\\s]', ' ', text.lower()) # remove all non-letter symbols\n",
    "    cleaned_text = re.sub(r'\\s+', ' ', text).strip() # remove double or more spaces\n",
    "    \n",
    "    return cleaned_text"
   ]
  },
  {
   "cell_type": "code",
   "execution_count": 8,
   "id": "050737e0",
   "metadata": {},
   "outputs": [],
   "source": [
    "def lemmantize_words(text):\n",
    "    lemmas = []\n",
    "    doc = Doc(text)\n",
    "    doc.segment(segmenter)\n",
    "    doc.tag_morph(morph_tagger)\n",
    "    \n",
    "    try:\n",
    "        for token in doc.tokens:\n",
    "            token.lemmatize(morph_vocab)\n",
    "            lemmas.append(token.lemma)\n",
    "                \n",
    "    except Exception as e:\n",
    "        print(f\"Ошибка при обработке текста: {text[:30]}... → {e}\")\n",
    "        return ''\n",
    "    \n",
    "    return ' '.join(lemmas)"
   ]
  },
  {
   "cell_type": "code",
   "execution_count": 9,
   "id": "606af8c4",
   "metadata": {},
   "outputs": [],
   "source": [
    "def filter_stop_words(text):\n",
    "    words = []\n",
    "    for word in text.split():\n",
    "        if word in stop or len(word) < 2:\n",
    "            continue\n",
    "        words.append(word)\n",
    "        \n",
    "    return ' '.join(words)"
   ]
  },
  {
   "cell_type": "code",
   "execution_count": 10,
   "id": "1f4fd925",
   "metadata": {},
   "outputs": [],
   "source": [
    "def preprocess_string(string):\n",
    "    if not isinstance(string, str) or len(string.strip()) == 0: # fool-protection\n",
    "        return ''\n",
    "    \n",
    "    string = clean_string(string)\n",
    "    string = lemmantize_words(string)\n",
    "    string = filter_stop_words(string)\n",
    "    \n",
    "    return string"
   ]
  },
  {
   "cell_type": "code",
   "execution_count": 11,
   "id": "4058d754",
   "metadata": {},
   "outputs": [],
   "source": [
    "def preprocess_title(string):\n",
    "    if not isinstance(string, str) or len(string.strip()) == 0: # fool-protection\n",
    "        return ''"
   ]
  },
  {
   "cell_type": "code",
   "execution_count": 12,
   "id": "3b2ae14f",
   "metadata": {},
   "outputs": [
    {
     "data": {
      "text/plain": [
       "'Серый дым клубами поднимался все выше, постепенно растворяясь в воздухе. Резкий ожог на пальце напомнил девушке, сидящей на подоконнике, что сигарета уже давно дог...'"
      ]
     },
     "execution_count": 12,
     "metadata": {},
     "output_type": "execute_result"
    }
   ],
   "source": [
    "df['annotation'][0]"
   ]
  },
  {
   "cell_type": "code",
   "execution_count": 13,
   "id": "2bd14520",
   "metadata": {},
   "outputs": [
    {
     "data": {
      "text/plain": [
       "'серый дым клуб подниматься высоко постепенно растворяться воздух резкий ожог палец напомнить девушка сидеть подоконник сигарета давно'"
      ]
     },
     "execution_count": 13,
     "metadata": {},
     "output_type": "execute_result"
    }
   ],
   "source": [
    "preprocess_string(df['annotation'][0])"
   ]
  },
  {
   "cell_type": "code",
   "execution_count": 14,
   "id": "f9c7c493",
   "metadata": {},
   "outputs": [
    {
     "data": {
      "text/plain": [
       "((67557, 6), (67553, 6))"
      ]
     },
     "execution_count": 14,
     "metadata": {},
     "output_type": "execute_result"
    }
   ],
   "source": [
    "df.shape, df.dropna(subset='genre').shape"
   ]
  },
  {
   "cell_type": "code",
   "execution_count": 15,
   "id": "29113e27",
   "metadata": {},
   "outputs": [],
   "source": [
    "df.dropna(subset='genre', inplace=True)"
   ]
  },
  {
   "cell_type": "code",
   "execution_count": 16,
   "id": "aa2b856d",
   "metadata": {},
   "outputs": [],
   "source": [
    "df['clean_annotation'] = df['annotation'].apply(preprocess_string)"
   ]
  },
  {
   "cell_type": "code",
   "execution_count": 17,
   "id": "c666d091",
   "metadata": {},
   "outputs": [],
   "source": [
    "df['clean_title'] = df['title'].apply(clean_string)"
   ]
  },
  {
   "cell_type": "code",
   "execution_count": 18,
   "id": "503cc2a7",
   "metadata": {},
   "outputs": [],
   "source": [
    "df['clean_genre'] = df['genre'].apply(clean_string)"
   ]
  },
  {
   "cell_type": "code",
   "execution_count": 20,
   "id": "cf76a9c3",
   "metadata": {},
   "outputs": [
    {
     "data": {
      "text/html": [
       "<div>\n",
       "<style scoped>\n",
       "    .dataframe tbody tr th:only-of-type {\n",
       "        vertical-align: middle;\n",
       "    }\n",
       "\n",
       "    .dataframe tbody tr th {\n",
       "        vertical-align: top;\n",
       "    }\n",
       "\n",
       "    .dataframe thead th {\n",
       "        text-align: right;\n",
       "    }\n",
       "</style>\n",
       "<table border=\"1\" class=\"dataframe\">\n",
       "  <thead>\n",
       "    <tr style=\"text-align: right;\">\n",
       "      <th></th>\n",
       "      <th>author</th>\n",
       "      <th>title</th>\n",
       "      <th>annotation</th>\n",
       "      <th>img_url</th>\n",
       "      <th>book_url</th>\n",
       "      <th>genre</th>\n",
       "      <th>clean_annotation</th>\n",
       "      <th>clean_title</th>\n",
       "      <th>clean_genre</th>\n",
       "    </tr>\n",
       "  </thead>\n",
       "  <tbody>\n",
       "    <tr>\n",
       "      <th>0</th>\n",
       "      <td>Miroshnik Mariya</td>\n",
       "      <td>Обещание Малфою</td>\n",
       "      <td>Серый дым клубами поднимался все выше, постепе...</td>\n",
       "      <td>https://rust.litnet.com/uploads/covers/120/161...</td>\n",
       "      <td>https://litnet.com/ru/book/obeshchanie-malfoyu...</td>\n",
       "      <td>Фанфик, Фанфики по фильмам</td>\n",
       "      <td>серый дым клуб подниматься высоко постепенно р...</td>\n",
       "      <td>обещание малфою</td>\n",
       "      <td>фанфик фанфики по фильмам</td>\n",
       "    </tr>\n",
       "    <tr>\n",
       "      <th>1</th>\n",
       "      <td>Антонина Аркадьева</td>\n",
       "      <td>Любовь На Эгейском Море _aŞk Sana Benzer</td>\n",
       "      <td>Лето, теплое море и любовь простых красивых ду...</td>\n",
       "      <td>https://rust.litnet.com/uploads/covers/120/159...</td>\n",
       "      <td>https://litnet.com/ru/book/obeshchanie-malfoyu...</td>\n",
       "      <td>Фанфик, Фанфики по фильмам</td>\n",
       "      <td>лето теплый море любовь простой красивый душа ...</td>\n",
       "      <td>любовь на эгейском море</td>\n",
       "      <td>фанфик фанфики по фильмам</td>\n",
       "    </tr>\n",
       "    <tr>\n",
       "      <th>2</th>\n",
       "      <td>Этранжера</td>\n",
       "      <td>Всё началось с поцелуя. (по сериалу \"Любовь на...</td>\n",
       "      <td>Омер и Дефне, знающий себе цену мужчина и неоп...</td>\n",
       "      <td>https://rust.litnet.com/uploads/covers/120/158...</td>\n",
       "      <td>https://litnet.com/ru/book/obeshchanie-malfoyu...</td>\n",
       "      <td>Фанфик, Фанфики по фильмам</td>\n",
       "      <td>омер дефне знать цена мужчина неопытный девушк...</td>\n",
       "      <td>всё началось с поцелуя по сериалу любовь напрокат</td>\n",
       "      <td>фанфик фанфики по фильмам</td>\n",
       "    </tr>\n",
       "    <tr>\n",
       "      <th>3</th>\n",
       "      <td>Люба</td>\n",
       "      <td>Белла</td>\n",
       "      <td>Попаданка в тело Изабеллы Свон....</td>\n",
       "      <td>https://rust.litnet.com/uploads/covers/120/158...</td>\n",
       "      <td>https://litnet.com/ru/book/obeshchanie-malfoyu...</td>\n",
       "      <td>Фанфик, Фанфики по фильмам</td>\n",
       "      <td>попаданка тело изабелла свон</td>\n",
       "      <td>белла</td>\n",
       "      <td>фанфик фанфики по фильмам</td>\n",
       "    </tr>\n",
       "    <tr>\n",
       "      <th>4</th>\n",
       "      <td>Cool blue lady</td>\n",
       "      <td>Мальчик голубых кровей. Испытание дружбой</td>\n",
       "      <td>Драко Малфой опускает голову и руки его трясут...</td>\n",
       "      <td>https://rust.litnet.com/uploads/covers/120/154...</td>\n",
       "      <td>https://litnet.com/ru/book/obeshchanie-malfoyu...</td>\n",
       "      <td>Фанфик, Фанфики по фильмам</td>\n",
       "      <td>драко малфа опускать голова рука трястись подн...</td>\n",
       "      <td>мальчик голубых кровей испытание дружбой</td>\n",
       "      <td>фанфик фанфики по фильмам</td>\n",
       "    </tr>\n",
       "    <tr>\n",
       "      <th>...</th>\n",
       "      <td>...</td>\n",
       "      <td>...</td>\n",
       "      <td>...</td>\n",
       "      <td>...</td>\n",
       "      <td>...</td>\n",
       "      <td>...</td>\n",
       "      <td>...</td>\n",
       "      <td>...</td>\n",
       "      <td>...</td>\n",
       "    </tr>\n",
       "    <tr>\n",
       "      <th>67552</th>\n",
       "      <td>Михаил Петров</td>\n",
       "      <td>Дарли-сити. Родом из Дарли</td>\n",
       "      <td>Сложное и в то же время простое обстоятельство...</td>\n",
       "      <td>https://rust.litnet.com/uploads/covers/120/157...</td>\n",
       "      <td>https://litnet.com/ru/book/richard-kasl-cikl-z...</td>\n",
       "      <td>Детективы, Полицейский детектив</td>\n",
       "      <td>сложный время простой обстоятельство случаться...</td>\n",
       "      <td>дарли сити родом из дарли</td>\n",
       "      <td>детективы полицейский детектив</td>\n",
       "    </tr>\n",
       "    <tr>\n",
       "      <th>67553</th>\n",
       "      <td>Юлия Лисова</td>\n",
       "      <td>Всё останется загадкой..</td>\n",
       "      <td>Что делать, когда встретился с тем, что можешь...</td>\n",
       "      <td>https://rust.litnet.com/uploads/covers/120/154...</td>\n",
       "      <td>https://litnet.com/ru/book/richard-kasl-cikl-z...</td>\n",
       "      <td>Детективы, Полицейский детектив</td>\n",
       "      <td>делать встретиться мочь объяснить никто не пов...</td>\n",
       "      <td>всё останется загадкой</td>\n",
       "      <td>детективы полицейский детектив</td>\n",
       "    </tr>\n",
       "    <tr>\n",
       "      <th>67554</th>\n",
       "      <td>Катя Литвин</td>\n",
       "      <td>Уснул, называется</td>\n",
       "      <td>Вот смотрю, бывает, кино про полицейских и дум...</td>\n",
       "      <td>https://rust.litnet.com/uploads/covers/120/174...</td>\n",
       "      <td>https://litnet.com/ru/book/richard-kasl-cikl-z...</td>\n",
       "      <td>Детективы, Полицейский детектив</td>\n",
       "      <td>смотреть бывать кино полицейский думать откуда...</td>\n",
       "      <td>уснул называется</td>\n",
       "      <td>детективы полицейский детектив</td>\n",
       "    </tr>\n",
       "    <tr>\n",
       "      <th>67555</th>\n",
       "      <td>Кристина Выборнова (Аделя Хильман)</td>\n",
       "      <td>Тайны Колина</td>\n",
       "      <td>Очередной рассказ-фрагмент из цикла о жизни Ко...</td>\n",
       "      <td>https://rust.litnet.com/uploads/covers/120/150...</td>\n",
       "      <td>https://litnet.com/ru/book/richard-kasl-cikl-z...</td>\n",
       "      <td>Детективы, Полицейский детектив</td>\n",
       "      <td>очередной рассказ фрагмент цикл жизнь колин ро...</td>\n",
       "      <td>тайны колина</td>\n",
       "      <td>детективы полицейский детектив</td>\n",
       "    </tr>\n",
       "    <tr>\n",
       "      <th>67556</th>\n",
       "      <td>Роман Абрамов</td>\n",
       "      <td>Преступление без наказания</td>\n",
       "      <td>Короткий рассказ о преступлении, оставшемся бе...</td>\n",
       "      <td>https://rust.litnet.com/uploads/covers/120/150...</td>\n",
       "      <td>https://litnet.com/ru/book/richard-kasl-cikl-z...</td>\n",
       "      <td>Детективы, Полицейский детектив</td>\n",
       "      <td>короткий рассказ преступление остаться наказан...</td>\n",
       "      <td>преступление без наказания</td>\n",
       "      <td>детективы полицейский детектив</td>\n",
       "    </tr>\n",
       "  </tbody>\n",
       "</table>\n",
       "<p>67553 rows × 9 columns</p>\n",
       "</div>"
      ],
      "text/plain": [
       "                                   author  \\\n",
       "0                       Miroshnik Mariya    \n",
       "1                      Антонина Аркадьева   \n",
       "2                               Этранжера   \n",
       "3                                   Люба    \n",
       "4                          Cool blue lady   \n",
       "...                                   ...   \n",
       "67552                       Михаил Петров   \n",
       "67553                         Юлия Лисова   \n",
       "67554                         Катя Литвин   \n",
       "67555  Кристина Выборнова (Аделя Хильман)   \n",
       "67556                       Роман Абрамов   \n",
       "\n",
       "                                                   title  \\\n",
       "0                                        Обещание Малфою   \n",
       "1               Любовь На Эгейском Море _aŞk Sana Benzer   \n",
       "2      Всё началось с поцелуя. (по сериалу \"Любовь на...   \n",
       "3                                                  Белла   \n",
       "4              Мальчик голубых кровей. Испытание дружбой   \n",
       "...                                                  ...   \n",
       "67552                         Дарли-сити. Родом из Дарли   \n",
       "67553                           Всё останется загадкой..   \n",
       "67554                                  Уснул, называется   \n",
       "67555                                       Тайны Колина   \n",
       "67556                         Преступление без наказания   \n",
       "\n",
       "                                              annotation  \\\n",
       "0      Серый дым клубами поднимался все выше, постепе...   \n",
       "1      Лето, теплое море и любовь простых красивых ду...   \n",
       "2      Омер и Дефне, знающий себе цену мужчина и неоп...   \n",
       "3                     Попаданка в тело Изабеллы Свон....   \n",
       "4      Драко Малфой опускает голову и руки его трясут...   \n",
       "...                                                  ...   \n",
       "67552  Сложное и в то же время простое обстоятельство...   \n",
       "67553  Что делать, когда встретился с тем, что можешь...   \n",
       "67554  Вот смотрю, бывает, кино про полицейских и дум...   \n",
       "67555  Очередной рассказ-фрагмент из цикла о жизни Ко...   \n",
       "67556  Короткий рассказ о преступлении, оставшемся бе...   \n",
       "\n",
       "                                                 img_url  \\\n",
       "0      https://rust.litnet.com/uploads/covers/120/161...   \n",
       "1      https://rust.litnet.com/uploads/covers/120/159...   \n",
       "2      https://rust.litnet.com/uploads/covers/120/158...   \n",
       "3      https://rust.litnet.com/uploads/covers/120/158...   \n",
       "4      https://rust.litnet.com/uploads/covers/120/154...   \n",
       "...                                                  ...   \n",
       "67552  https://rust.litnet.com/uploads/covers/120/157...   \n",
       "67553  https://rust.litnet.com/uploads/covers/120/154...   \n",
       "67554  https://rust.litnet.com/uploads/covers/120/174...   \n",
       "67555  https://rust.litnet.com/uploads/covers/120/150...   \n",
       "67556  https://rust.litnet.com/uploads/covers/120/150...   \n",
       "\n",
       "                                                book_url  \\\n",
       "0      https://litnet.com/ru/book/obeshchanie-malfoyu...   \n",
       "1      https://litnet.com/ru/book/obeshchanie-malfoyu...   \n",
       "2      https://litnet.com/ru/book/obeshchanie-malfoyu...   \n",
       "3      https://litnet.com/ru/book/obeshchanie-malfoyu...   \n",
       "4      https://litnet.com/ru/book/obeshchanie-malfoyu...   \n",
       "...                                                  ...   \n",
       "67552  https://litnet.com/ru/book/richard-kasl-cikl-z...   \n",
       "67553  https://litnet.com/ru/book/richard-kasl-cikl-z...   \n",
       "67554  https://litnet.com/ru/book/richard-kasl-cikl-z...   \n",
       "67555  https://litnet.com/ru/book/richard-kasl-cikl-z...   \n",
       "67556  https://litnet.com/ru/book/richard-kasl-cikl-z...   \n",
       "\n",
       "                                 genre  \\\n",
       "0           Фанфик, Фанфики по фильмам   \n",
       "1           Фанфик, Фанфики по фильмам   \n",
       "2           Фанфик, Фанфики по фильмам   \n",
       "3           Фанфик, Фанфики по фильмам   \n",
       "4           Фанфик, Фанфики по фильмам   \n",
       "...                                ...   \n",
       "67552  Детективы, Полицейский детектив   \n",
       "67553  Детективы, Полицейский детектив   \n",
       "67554  Детективы, Полицейский детектив   \n",
       "67555  Детективы, Полицейский детектив   \n",
       "67556  Детективы, Полицейский детектив   \n",
       "\n",
       "                                        clean_annotation  \\\n",
       "0      серый дым клуб подниматься высоко постепенно р...   \n",
       "1      лето теплый море любовь простой красивый душа ...   \n",
       "2      омер дефне знать цена мужчина неопытный девушк...   \n",
       "3                           попаданка тело изабелла свон   \n",
       "4      драко малфа опускать голова рука трястись подн...   \n",
       "...                                                  ...   \n",
       "67552  сложный время простой обстоятельство случаться...   \n",
       "67553  делать встретиться мочь объяснить никто не пов...   \n",
       "67554  смотреть бывать кино полицейский думать откуда...   \n",
       "67555  очередной рассказ фрагмент цикл жизнь колин ро...   \n",
       "67556  короткий рассказ преступление остаться наказан...   \n",
       "\n",
       "                                             clean_title  \\\n",
       "0                                        обещание малфою   \n",
       "1                                любовь на эгейском море   \n",
       "2      всё началось с поцелуя по сериалу любовь напрокат   \n",
       "3                                                  белла   \n",
       "4               мальчик голубых кровей испытание дружбой   \n",
       "...                                                  ...   \n",
       "67552                          дарли сити родом из дарли   \n",
       "67553                             всё останется загадкой   \n",
       "67554                                   уснул называется   \n",
       "67555                                       тайны колина   \n",
       "67556                         преступление без наказания   \n",
       "\n",
       "                          clean_genre  \n",
       "0           фанфик фанфики по фильмам  \n",
       "1           фанфик фанфики по фильмам  \n",
       "2           фанфик фанфики по фильмам  \n",
       "3           фанфик фанфики по фильмам  \n",
       "4           фанфик фанфики по фильмам  \n",
       "...                               ...  \n",
       "67552  детективы полицейский детектив  \n",
       "67553  детективы полицейский детектив  \n",
       "67554  детективы полицейский детектив  \n",
       "67555  детективы полицейский детектив  \n",
       "67556  детективы полицейский детектив  \n",
       "\n",
       "[67553 rows x 9 columns]"
      ]
     },
     "execution_count": 20,
     "metadata": {},
     "output_type": "execute_result"
    }
   ],
   "source": [
    "df"
   ]
  },
  {
   "cell_type": "code",
   "execution_count": 39,
   "id": "b8d6bce2",
   "metadata": {},
   "outputs": [],
   "source": [
    "def concat_clean_content(row):\n",
    "    return (\n",
    "    \"Жанр: \" + row['genre'] + \"\\n\" +\n",
    "    \"Аннотация: \" + row['annotation'] + \"\\n\" +\n",
    "    \"Название: \" + row['title']\n",
    ")"
   ]
  },
  {
   "cell_type": "code",
   "execution_count": 40,
   "id": "233364b2",
   "metadata": {},
   "outputs": [],
   "source": [
    "df['clean_concat_content'] = df.apply(concat_clean_content, axis=1)[0]"
   ]
  },
  {
   "cell_type": "code",
   "execution_count": 42,
   "id": "7b02098e",
   "metadata": {},
   "outputs": [],
   "source": [
    "df.to_csv('final.csv', index=False)"
   ]
  },
  {
   "cell_type": "code",
   "execution_count": null,
   "id": "10f5afc6",
   "metadata": {},
   "outputs": [],
   "source": []
  }
 ],
 "metadata": {
  "kernelspec": {
   "display_name": ".venv",
   "language": "python",
   "name": "python3"
  },
  "language_info": {
   "codemirror_mode": {
    "name": "ipython",
    "version": 3
   },
   "file_extension": ".py",
   "mimetype": "text/x-python",
   "name": "python",
   "nbconvert_exporter": "python",
   "pygments_lexer": "ipython3",
   "version": "3.12.9"
  }
 },
 "nbformat": 4,
 "nbformat_minor": 5
}
