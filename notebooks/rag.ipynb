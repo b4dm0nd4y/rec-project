{
 "cells": [
  {
   "cell_type": "code",
   "execution_count": null,
   "id": "ead9a963",
   "metadata": {},
   "outputs": [],
   "source": [
    "from qdrant_client import QdrantClient\n",
    "from langchain_groq import ChatGroq\n",
    "from langchain_core.messages import SystemMessage, HumanMessage"
   ]
  },
  {
   "cell_type": "code",
   "execution_count": null,
   "id": "19decc6e",
   "metadata": {},
   "outputs": [],
   "source": [
    "client = QdrantClient(\n",
    "    path='../db/qdrant_db',\n",
    ")\n",
    "\n",
    "collection_name='books-rec-project3'"
   ]
  },
  {
   "cell_type": "code",
   "execution_count": 5,
   "id": "f6e15056",
   "metadata": {},
   "outputs": [],
   "source": [
    "with open('../data/stopwords/russian', 'r') as f:\n",
    "    lines = [line.strip() for line in f.readlines()]"
   ]
  },
  {
   "cell_type": "code",
   "execution_count": 7,
   "id": "059851cc",
   "metadata": {},
   "outputs": [
    {
     "data": {
      "text/plain": [
       "'и'"
      ]
     },
     "execution_count": 7,
     "metadata": {},
     "output_type": "execute_result"
    }
   ],
   "source": [
    "lines[0]"
   ]
  },
  {
   "cell_type": "code",
   "execution_count": null,
   "id": "94ac7335",
   "metadata": {},
   "outputs": [],
   "source": [
    "client.close()"
   ]
  }
 ],
 "metadata": {
  "kernelspec": {
   "display_name": ".venv",
   "language": "python",
   "name": "python3"
  },
  "language_info": {
   "codemirror_mode": {
    "name": "ipython",
    "version": 3
   },
   "file_extension": ".py",
   "mimetype": "text/x-python",
   "name": "python",
   "nbconvert_exporter": "python",
   "pygments_lexer": "ipython3",
   "version": "3.12.9"
  }
 },
 "nbformat": 4,
 "nbformat_minor": 5
}
