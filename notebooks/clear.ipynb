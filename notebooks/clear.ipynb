{
 "cells": [
  {
   "cell_type": "code",
   "execution_count": 1,
   "id": "bf7cb624",
   "metadata": {},
   "outputs": [],
   "source": [
    "import pandas as pd\n",
    "import os"
   ]
  },
  {
   "cell_type": "code",
   "execution_count": 2,
   "id": "95ee0161",
   "metadata": {},
   "outputs": [],
   "source": [
    "dir_path = '../data/genres/'\n",
    "\n",
    "all_entries = os.listdir(dir_path)\n",
    "filenames = []\n",
    "\n",
    "for entry in all_entries:\n",
    "    full_path = os.path.join(dir_path, entry)\n",
    "    if os.path.isfile(full_path) and entry != 'genres.csv':\n",
    "        filenames.append(entry)"
   ]
  },
  {
   "cell_type": "code",
   "execution_count": 3,
   "id": "e39d3ab3",
   "metadata": {},
   "outputs": [],
   "source": [
    "for f in filenames:\n",
    "    try:\n",
    "        df = pd.read_csv('../data/genres/' + f).drop(\n",
    "            columns=['Unnamed: 0']\n",
    "        )\n",
    "    except:\n",
    "        df = pd.read_csv('../data/genres/' + f)\n",
    "        \n",
    "    clear_df = df.drop_duplicates('title').reset_index(drop=True)\n",
    "    clear_df.to_csv(f'{f[:-4]}_clear.csv', index=False)"
   ]
  }
 ],
 "metadata": {
  "kernelspec": {
   "display_name": ".venv",
   "language": "python",
   "name": "python3"
  },
  "language_info": {
   "codemirror_mode": {
    "name": "ipython",
    "version": 3
   },
   "file_extension": ".py",
   "mimetype": "text/x-python",
   "name": "python",
   "nbconvert_exporter": "python",
   "pygments_lexer": "ipython3",
   "version": "3.12.9"
  }
 },
 "nbformat": 4,
 "nbformat_minor": 5
}
