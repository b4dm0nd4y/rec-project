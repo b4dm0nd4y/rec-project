{
 "cells": [
  {
   "cell_type": "code",
   "execution_count": 1,
   "id": "374c9538",
   "metadata": {},
   "outputs": [],
   "source": [
    "import pandas as pd\n",
    "from tqdm import tqdm\n",
    "\n",
    "from uuid import uuid4\n",
    "\n",
    "from langchain_core.documents import Document\n",
    "from langchain_qdrant import QdrantVectorStore\n",
    "from langchain_huggingface import HuggingFaceEmbeddings\n",
    "\n",
    "from qdrant_client import QdrantClient\n",
    "from qdrant_client.http.models import Distance, VectorParams"
   ]
  },
  {
   "cell_type": "code",
   "execution_count": 2,
   "id": "21459567",
   "metadata": {},
   "outputs": [
    {
     "name": "stderr",
     "output_type": "stream",
     "text": [
      "/tmp/ipykernel_146953/5000106.py:2: UserWarning: Local mode is not recommended for collections with more than 20,000 points. Collection <books-rec-project> contains 67582 points. Consider using Qdrant in Docker or Qdrant Cloud for better performance with large datasets.\n",
      "  client = QdrantClient(\n"
     ]
    }
   ],
   "source": [
    "# initializing data base for quadrant\n",
    "client = QdrantClient(\n",
    "    path='../db/qdrant_db',\n",
    ")"
   ]
  },
  {
   "cell_type": "code",
   "execution_count": 3,
   "id": "2536d0f0",
   "metadata": {},
   "outputs": [
    {
     "data": {
      "text/plain": [
       "True"
      ]
     },
     "execution_count": 3,
     "metadata": {},
     "output_type": "execute_result"
    }
   ],
   "source": [
    "# setting information about our data base\n",
    "client.create_collection(\n",
    "    collection_name='books-rec-project3',\n",
    "    vectors_config=VectorParams(size=768, distance=Distance.COSINE)\n",
    ")"
   ]
  },
  {
   "cell_type": "code",
   "execution_count": 4,
   "id": "4cd3a0b0",
   "metadata": {},
   "outputs": [
    {
     "name": "stderr",
     "output_type": "stream",
     "text": [
      "/home/o13g/bootcamp/ds-phase-2/rec-project/.venv/lib/python3.12/site-packages/tqdm/auto.py:21: TqdmWarning: IProgress not found. Please update jupyter and ipywidgets. See https://ipywidgets.readthedocs.io/en/stable/user_install.html\n",
      "  from .autonotebook import tqdm as notebook_tqdm\n"
     ]
    }
   ],
   "source": [
    "# initializing model for embeddings\n",
    "model_name = 'sentence-transformers/paraphrase-multilingual-mpnet-base-v2'\n",
    "model_kwargs = {'device': 'cuda'}\n",
    "encode_kwargs = {'normalize_embeddings': True}\n",
    "\n",
    "hf = HuggingFaceEmbeddings(\n",
    "    model_name=model_name,\n",
    "    model_kwargs=model_kwargs,\n",
    "    encode_kwargs=encode_kwargs\n",
    ")"
   ]
  },
  {
   "cell_type": "code",
   "execution_count": 5,
   "id": "67b7103f",
   "metadata": {},
   "outputs": [],
   "source": [
    "df = pd.read_csv('../data/genres/final.csv')"
   ]
  },
  {
   "cell_type": "code",
   "execution_count": 6,
   "id": "b478d16e",
   "metadata": {},
   "outputs": [
    {
     "data": {
      "text/html": [
       "<div>\n",
       "<style scoped>\n",
       "    .dataframe tbody tr th:only-of-type {\n",
       "        vertical-align: middle;\n",
       "    }\n",
       "\n",
       "    .dataframe tbody tr th {\n",
       "        vertical-align: top;\n",
       "    }\n",
       "\n",
       "    .dataframe thead th {\n",
       "        text-align: right;\n",
       "    }\n",
       "</style>\n",
       "<table border=\"1\" class=\"dataframe\">\n",
       "  <thead>\n",
       "    <tr style=\"text-align: right;\">\n",
       "      <th></th>\n",
       "      <th>author</th>\n",
       "      <th>title</th>\n",
       "      <th>annotation</th>\n",
       "      <th>img_url</th>\n",
       "      <th>book_url</th>\n",
       "      <th>genre</th>\n",
       "      <th>clean_annotation</th>\n",
       "      <th>clean_title</th>\n",
       "      <th>clean_genre</th>\n",
       "      <th>clean_concat_content</th>\n",
       "      <th>main_genre</th>\n",
       "    </tr>\n",
       "  </thead>\n",
       "  <tbody>\n",
       "    <tr>\n",
       "      <th>0</th>\n",
       "      <td>Miroshnik Mariya</td>\n",
       "      <td>Обещание Малфою</td>\n",
       "      <td>Серый дым клубами поднимался все выше, постепе...</td>\n",
       "      <td>https://rust.litnet.com/uploads/covers/120/161...</td>\n",
       "      <td>https://litnet.com/ru/book/obeshchanie-malfoyu...</td>\n",
       "      <td>Фанфик, Фанфики по фильмам</td>\n",
       "      <td>серый дым клуб подниматься высоко постепенно р...</td>\n",
       "      <td>обещание малфою</td>\n",
       "      <td>фанфик фанфики по фильмам</td>\n",
       "      <td>Жанр: Фанфик, Фанфики по фильмам\\nАннотация: С...</td>\n",
       "      <td>Фанфик</td>\n",
       "    </tr>\n",
       "    <tr>\n",
       "      <th>1</th>\n",
       "      <td>Антонина Аркадьева</td>\n",
       "      <td>Любовь На Эгейском Море _aŞk Sana Benzer</td>\n",
       "      <td>Лето, теплое море и любовь простых красивых ду...</td>\n",
       "      <td>https://rust.litnet.com/uploads/covers/120/159...</td>\n",
       "      <td>https://litnet.com/ru/book/obeshchanie-malfoyu...</td>\n",
       "      <td>Фанфик, Фанфики по фильмам</td>\n",
       "      <td>лето теплый море любовь простой красивый душа ...</td>\n",
       "      <td>любовь на эгейском море</td>\n",
       "      <td>фанфик фанфики по фильмам</td>\n",
       "      <td>Жанр: Фанфик, Фанфики по фильмам\\nАннотация: Л...</td>\n",
       "      <td>Фанфик</td>\n",
       "    </tr>\n",
       "    <tr>\n",
       "      <th>2</th>\n",
       "      <td>Этранжера</td>\n",
       "      <td>Всё началось с поцелуя. (по сериалу \"Любовь на...</td>\n",
       "      <td>Омер и Дефне, знающий себе цену мужчина и неоп...</td>\n",
       "      <td>https://rust.litnet.com/uploads/covers/120/158...</td>\n",
       "      <td>https://litnet.com/ru/book/obeshchanie-malfoyu...</td>\n",
       "      <td>Фанфик, Фанфики по фильмам</td>\n",
       "      <td>омер дефне знать цена мужчина неопытный девушк...</td>\n",
       "      <td>всё началось с поцелуя по сериалу любовь напрокат</td>\n",
       "      <td>фанфик фанфики по фильмам</td>\n",
       "      <td>Жанр: Фанфик, Фанфики по фильмам\\nАннотация: О...</td>\n",
       "      <td>Фанфик</td>\n",
       "    </tr>\n",
       "    <tr>\n",
       "      <th>3</th>\n",
       "      <td>Люба</td>\n",
       "      <td>Белла</td>\n",
       "      <td>Попаданка в тело Изабеллы Свон....</td>\n",
       "      <td>https://rust.litnet.com/uploads/covers/120/158...</td>\n",
       "      <td>https://litnet.com/ru/book/obeshchanie-malfoyu...</td>\n",
       "      <td>Фанфик, Фанфики по фильмам</td>\n",
       "      <td>попаданка тело изабелла свон</td>\n",
       "      <td>белла</td>\n",
       "      <td>фанфик фанфики по фильмам</td>\n",
       "      <td>Жанр: Фанфик, Фанфики по фильмам\\nАннотация: П...</td>\n",
       "      <td>Фанфик</td>\n",
       "    </tr>\n",
       "    <tr>\n",
       "      <th>4</th>\n",
       "      <td>Cool blue lady</td>\n",
       "      <td>Мальчик голубых кровей. Испытание дружбой</td>\n",
       "      <td>Драко Малфой опускает голову и руки его трясут...</td>\n",
       "      <td>https://rust.litnet.com/uploads/covers/120/154...</td>\n",
       "      <td>https://litnet.com/ru/book/obeshchanie-malfoyu...</td>\n",
       "      <td>Фанфик, Фанфики по фильмам</td>\n",
       "      <td>драко малфа опускать голова рука трястись подн...</td>\n",
       "      <td>мальчик голубых кровей испытание дружбой</td>\n",
       "      <td>фанфик фанфики по фильмам</td>\n",
       "      <td>Жанр: Фанфик, Фанфики по фильмам\\nАннотация: Д...</td>\n",
       "      <td>Фанфик</td>\n",
       "    </tr>\n",
       "  </tbody>\n",
       "</table>\n",
       "</div>"
      ],
      "text/plain": [
       "               author                                              title  \\\n",
       "0   Miroshnik Mariya                                     Обещание Малфою   \n",
       "1  Антонина Аркадьева           Любовь На Эгейском Море _aŞk Sana Benzer   \n",
       "2           Этранжера  Всё началось с поцелуя. (по сериалу \"Любовь на...   \n",
       "3               Люба                                               Белла   \n",
       "4      Cool blue lady          Мальчик голубых кровей. Испытание дружбой   \n",
       "\n",
       "                                          annotation  \\\n",
       "0  Серый дым клубами поднимался все выше, постепе...   \n",
       "1  Лето, теплое море и любовь простых красивых ду...   \n",
       "2  Омер и Дефне, знающий себе цену мужчина и неоп...   \n",
       "3                 Попаданка в тело Изабеллы Свон....   \n",
       "4  Драко Малфой опускает голову и руки его трясут...   \n",
       "\n",
       "                                             img_url  \\\n",
       "0  https://rust.litnet.com/uploads/covers/120/161...   \n",
       "1  https://rust.litnet.com/uploads/covers/120/159...   \n",
       "2  https://rust.litnet.com/uploads/covers/120/158...   \n",
       "3  https://rust.litnet.com/uploads/covers/120/158...   \n",
       "4  https://rust.litnet.com/uploads/covers/120/154...   \n",
       "\n",
       "                                            book_url  \\\n",
       "0  https://litnet.com/ru/book/obeshchanie-malfoyu...   \n",
       "1  https://litnet.com/ru/book/obeshchanie-malfoyu...   \n",
       "2  https://litnet.com/ru/book/obeshchanie-malfoyu...   \n",
       "3  https://litnet.com/ru/book/obeshchanie-malfoyu...   \n",
       "4  https://litnet.com/ru/book/obeshchanie-malfoyu...   \n",
       "\n",
       "                        genre  \\\n",
       "0  Фанфик, Фанфики по фильмам   \n",
       "1  Фанфик, Фанфики по фильмам   \n",
       "2  Фанфик, Фанфики по фильмам   \n",
       "3  Фанфик, Фанфики по фильмам   \n",
       "4  Фанфик, Фанфики по фильмам   \n",
       "\n",
       "                                    clean_annotation  \\\n",
       "0  серый дым клуб подниматься высоко постепенно р...   \n",
       "1  лето теплый море любовь простой красивый душа ...   \n",
       "2  омер дефне знать цена мужчина неопытный девушк...   \n",
       "3                       попаданка тело изабелла свон   \n",
       "4  драко малфа опускать голова рука трястись подн...   \n",
       "\n",
       "                                         clean_title  \\\n",
       "0                                    обещание малфою   \n",
       "1                            любовь на эгейском море   \n",
       "2  всё началось с поцелуя по сериалу любовь напрокат   \n",
       "3                                              белла   \n",
       "4           мальчик голубых кровей испытание дружбой   \n",
       "\n",
       "                 clean_genre  \\\n",
       "0  фанфик фанфики по фильмам   \n",
       "1  фанфик фанфики по фильмам   \n",
       "2  фанфик фанфики по фильмам   \n",
       "3  фанфик фанфики по фильмам   \n",
       "4  фанфик фанфики по фильмам   \n",
       "\n",
       "                                clean_concat_content main_genre  \n",
       "0  Жанр: Фанфик, Фанфики по фильмам\\nАннотация: С...     Фанфик  \n",
       "1  Жанр: Фанфик, Фанфики по фильмам\\nАннотация: Л...     Фанфик  \n",
       "2  Жанр: Фанфик, Фанфики по фильмам\\nАннотация: О...     Фанфик  \n",
       "3  Жанр: Фанфик, Фанфики по фильмам\\nАннотация: П...     Фанфик  \n",
       "4  Жанр: Фанфик, Фанфики по фильмам\\nАннотация: Д...     Фанфик  "
      ]
     },
     "execution_count": 6,
     "metadata": {},
     "output_type": "execute_result"
    }
   ],
   "source": [
    "df.head()"
   ]
  },
  {
   "cell_type": "code",
   "execution_count": 7,
   "id": "d826537e",
   "metadata": {},
   "outputs": [
    {
     "data": {
      "text/plain": [
       "'Жанр: Фанфик, Фанфики по фильмам\\nАннотация: Лето, теплое море и любовь простых красивых душой и телом людей. Любовь во всех её проявлениях, но не сиропно-розовая, а сдобренная колоритным турецким перчиком!...\\nНазвание: Любовь На Эгейском Море _aŞk Sana Benzer'"
      ]
     },
     "execution_count": 7,
     "metadata": {},
     "output_type": "execute_result"
    }
   ],
   "source": [
    "df['clean_concat_content'][1]"
   ]
  },
  {
   "cell_type": "code",
   "execution_count": 8,
   "id": "5e5804e6",
   "metadata": {},
   "outputs": [
    {
     "name": "stdout",
     "output_type": "stream",
     "text": [
      "Создано 67553 документов с UUID\n"
     ]
    }
   ],
   "source": [
    "documents = []\n",
    "id_mapping = {}\n",
    "\n",
    "for _, row in df.iterrows():\n",
    "    content = row['clean_concat_content']\n",
    "    \n",
    "    metadata = {\n",
    "        'author': row.get('author', ''),\n",
    "        'title': row.get('title', ''),\n",
    "        'main_genre': row.get('main_genre', ''),\n",
    "        'annotation': row.get('annotation', ''),\n",
    "        'img_url': row.get('img_url', ''),\n",
    "        'book_url': row.get('book_url', '')\n",
    "    }\n",
    "    \n",
    "    documents.append(Document(page_content=content, metadata=metadata))\n",
    "\n",
    "uuids = [str(uuid4()) for _ in range(len(documents))]\n",
    "print(f'Создано {len(documents)} документов с UUID')"
   ]
  },
  {
   "cell_type": "code",
   "execution_count": 9,
   "id": "0057c4e4",
   "metadata": {},
   "outputs": [],
   "source": [
    "vector_store = QdrantVectorStore(\n",
    "    client=client,\n",
    "    collection_name='books-rec-project3',\n",
    "    embedding=hf\n",
    ")"
   ]
  },
  {
   "cell_type": "code",
   "execution_count": 10,
   "id": "d63c7baa",
   "metadata": {},
   "outputs": [
    {
     "name": "stderr",
     "output_type": "stream",
     "text": [
      "Добавление документов в Qdrant:   0%|          | 0/67553 [00:00<?, ?it/s]"
     ]
    },
    {
     "name": "stderr",
     "output_type": "stream",
     "text": [
      "Добавление документов в Qdrant:  30%|██▉       | 20000/67553 [1:03:44<2:28:55,  5.32it/s]/home/o13g/bootcamp/ds-phase-2/rec-project/.venv/lib/python3.12/site-packages/langchain_qdrant/qdrant.py:444: UserWarning: Local mode is not recommended for collections with more than 20,000 points. Current collection contains 20001 points. Consider using Qdrant in Docker or Qdrant Cloud for better performance with large datasets.\n",
      "  self.client.upsert(\n",
      "Добавление документов в Qdrant: 100%|██████████| 67553/67553 [3:36:55<00:00,  5.19it/s]  "
     ]
    },
    {
     "name": "stdout",
     "output_type": "stream",
     "text": [
      "✅ 67553 документов добавлено в Qdrant!\n"
     ]
    },
    {
     "name": "stderr",
     "output_type": "stream",
     "text": [
      "\n"
     ]
    }
   ],
   "source": [
    "with tqdm(total=len(documents), desc='Добавление документов в Qdrant') as pbar:\n",
    "    for doc, doc_id in zip(documents, uuids):\n",
    "        vector_store.add_documents(documents=[doc], ids=[doc_id])\n",
    "        pbar.update(1)\n",
    "        \n",
    "    print(f'✅ {len(documents)} документов добавлено в Qdrant!')"
   ]
  },
  {
   "cell_type": "code",
   "execution_count": 11,
   "id": "db44273f",
   "metadata": {},
   "outputs": [],
   "source": [
    "query = 'Про мальчика и демона'\n",
    "results = vector_store.similarity_search(\n",
    "    query,\n",
    "    k=3\n",
    ")"
   ]
  },
  {
   "cell_type": "code",
   "execution_count": 12,
   "id": "e1da38ec",
   "metadata": {},
   "outputs": [
    {
     "data": {
      "text/plain": [
       "[Document(metadata={'author': 'Ник Трейси', 'title': 'За демоном', 'main_genre': 'Молодежная проза', 'annotation': 'История о том, как обычные мальчишки пошли глубоко в дремучий лес, чтобы прикончить демона. ...', 'img_url': 'https://rust.litnet.com/uploads/covers/120/1540727763_43.jpg', 'book_url': 'https://litnet.com/ru/book/uslysh-menya-b108304', '_id': 'e353b7bc-8fd3-4175-abc5-4541dd050bfb', '_collection_name': 'books-rec-project3'}, page_content='Жанр: Молодежная проза, Молодежная мистика\\nАннотация: История о том, как обычные мальчишки пошли глубоко в дремучий лес, чтобы прикончить демона. ...\\nНазвание: За демоном'),\n",
       " Document(metadata={'author': 'RoMan', 'title': 'Влюблённый демон', 'main_genre': 'Молодежная проза', 'annotation': 'Демону запрещено любить человека, а если такое случается, сам дьявол будет пытать непослушного демона.\\nГлавный герой, демон перекрёстка, сам того не замечая, влюбил...', 'img_url': 'https://rust.litnet.com/uploads/covers/120/1711516351_84.jpg', 'book_url': 'https://litnet.com/ru/book/uvezi-menya-v-dolinu-b269916', '_id': '3a70da58-a11b-436f-9ec1-7a02283f27db', '_collection_name': 'books-rec-project3'}, page_content='Жанр: Молодежная проза, Молодежная мистика\\nАннотация: Демону запрещено любить человека, а если такое случается, сам дьявол будет пытать непослушного демона.\\nГлавный герой, демон перекрёстка, сам того не замечая, влюбил...\\nНазвание: Влюблённый демон'),\n",
       " Document(metadata={'author': 'Алекс Зигфрид Шнейдер', 'title': 'Деймос Гипнос Ссср - 1974', 'main_genre': 'Мистика/Ужасы', 'annotation': 'Мальчик попал в неприятную ситуацию, в результате чего сталкивается с непонятными вещами....', 'img_url': 'https://rust.litnet.com/uploads/covers/120/1607199645_60.jpg', 'book_url': 'https://litnet.com/ru/book/poslednee-rozhdestvo-luizy-b296719', '_id': '6834d74b-6f72-4066-9a2a-86c5e967dbf7', '_collection_name': 'books-rec-project3'}, page_content='Жанр: Мистика/Ужасы, Паранормальное\\nАннотация: Мальчик попал в неприятную ситуацию, в результате чего сталкивается с непонятными вещами....\\nНазвание: Деймос Гипнос Ссср - 1974')]"
      ]
     },
     "execution_count": 12,
     "metadata": {},
     "output_type": "execute_result"
    }
   ],
   "source": [
    "results"
   ]
  },
  {
   "cell_type": "code",
   "execution_count": 1,
   "id": "4ff77d67",
   "metadata": {},
   "outputs": [
    {
     "ename": "NameError",
     "evalue": "name 'client' is not defined",
     "output_type": "error",
     "traceback": [
      "\u001b[31m---------------------------------------------------------------------------\u001b[39m",
      "\u001b[31mNameError\u001b[39m                                 Traceback (most recent call last)",
      "\u001b[36mCell\u001b[39m\u001b[36m \u001b[39m\u001b[32mIn[1]\u001b[39m\u001b[32m, line 1\u001b[39m\n\u001b[32m----> \u001b[39m\u001b[32m1\u001b[39m \u001b[43mclient\u001b[49m.close()\n",
      "\u001b[31mNameError\u001b[39m: name 'client' is not defined"
     ]
    }
   ],
   "source": [
    "client.close()"
   ]
  },
  {
   "cell_type": "code",
   "execution_count": null,
   "id": "1b91470f",
   "metadata": {},
   "outputs": [],
   "source": []
  }
 ],
 "metadata": {
  "kernelspec": {
   "display_name": ".venv",
   "language": "python",
   "name": "python3"
  },
  "language_info": {
   "codemirror_mode": {
    "name": "ipython",
    "version": 3
   },
   "file_extension": ".py",
   "mimetype": "text/x-python",
   "name": "python",
   "nbconvert_exporter": "python",
   "pygments_lexer": "ipython3",
   "version": "3.12.9"
  }
 },
 "nbformat": 4,
 "nbformat_minor": 5
}
