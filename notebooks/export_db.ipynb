{
 "cells": [
  {
   "cell_type": "code",
   "execution_count": 1,
   "id": "b9cc703b",
   "metadata": {},
   "outputs": [],
   "source": [
    "import pandas as pd\n",
    "from tqdm import tqdm\n",
    "\n",
    "from uuid import uuid4\n",
    "\n",
    "from langchain_core.documents import Document\n",
    "from langchain_qdrant import QdrantVectorStore\n",
    "from langchain_huggingface import HuggingFaceEmbeddings\n",
    "\n",
    "from qdrant_client import QdrantClient\n",
    "from qdrant_client.http.models import Distance, VectorParams"
   ]
  },
  {
   "cell_type": "code",
   "execution_count": 4,
   "id": "4853d951",
   "metadata": {},
   "outputs": [
    {
     "name": "stderr",
     "output_type": "stream",
     "text": [
      "/tmp/ipykernel_167476/4078310450.py:1: UserWarning: Local mode is not recommended for collections with more than 20,000 points. Collection <books-rec-project> contains 67582 points. Consider using Qdrant in Docker or Qdrant Cloud for better performance with large datasets.\n",
      "  client = QdrantClient(\n",
      "/tmp/ipykernel_167476/4078310450.py:1: UserWarning: Local mode is not recommended for collections with more than 20,000 points. Collection <books-rec-project3> contains 67553 points. Consider using Qdrant in Docker or Qdrant Cloud for better performance with large datasets.\n",
      "  client = QdrantClient(\n"
     ]
    }
   ],
   "source": [
    "client = QdrantClient(\n",
    "    path='../db/qdrant_db',\n",
    ")\n",
    "\n",
    "collection_name='books-rec-project3'"
   ]
  },
  {
   "cell_type": "code",
   "execution_count": 7,
   "id": "da53ac52",
   "metadata": {},
   "outputs": [],
   "source": [
    "all_points = []\n",
    "batch_size = 1000\n",
    "cursor = None"
   ]
  },
  {
   "cell_type": "code",
   "execution_count": null,
   "id": "0b93b7ca",
   "metadata": {},
   "outputs": [],
   "source": [
    "print(f'Starting export from local collection: {collection_name}')\n",
    "while True:\n",
    "    if cursor is None:\n",
    "        response = client.scroll(\n",
    "            collection_name=collection_name,\n",
    "            limit=batch_size,\n",
    "            with_payload=True,\n",
    "            with_vectors=True\n",
    "        )\n",
    "    else:\n",
    "        response = client.scroll(\n",
    "            collection_name=collection_name,\n",
    "            limit=batch_size,\n",
    "            with_payload=True,\n",
    "            with_vectors=True,\n",
    "            offset=cursor\n",
    "        )\n",
    "        \n",
    "    points_batch = response[0] if isinstance(response, tuple) else response\n",
    "    if not points_batch:\n",
    "        break\n",
    "    all_points.extend(points_batch)\n",
    "    \n",
    "    try:\n",
    "        _, next_cursor = response\n",
    "        if next_cursor is None:\n",
    "            break\n",
    "        cursor = next_cursor\n",
    "    except Exception:\n",
    "        if len(points_batch) < batch_size:\n",
    "            break\n",
    "        break\n",
    "    \n",
    "print(f\"Exported total {len(all_points)} points from local collection.\")"
   ]
  },
  {
   "cell_type": "code",
   "execution_count": null,
   "id": "d8bb1014",
   "metadata": {},
   "outputs": [],
   "source": []
  },
  {
   "cell_type": "code",
   "execution_count": null,
   "id": "122e4640",
   "metadata": {},
   "outputs": [],
   "source": []
  },
  {
   "cell_type": "code",
   "execution_count": 6,
   "id": "bf8a0969",
   "metadata": {},
   "outputs": [],
   "source": [
    "client.close()"
   ]
  }
 ],
 "metadata": {
  "kernelspec": {
   "display_name": ".venv",
   "language": "python",
   "name": "python3"
  },
  "language_info": {
   "codemirror_mode": {
    "name": "ipython",
    "version": 3
   },
   "file_extension": ".py",
   "mimetype": "text/x-python",
   "name": "python",
   "nbconvert_exporter": "python",
   "pygments_lexer": "ipython3",
   "version": "3.12.9"
  }
 },
 "nbformat": 4,
 "nbformat_minor": 5
}
